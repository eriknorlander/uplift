{
 "cells": [
  {
   "cell_type": "code",
   "execution_count": 6,
   "metadata": {},
   "outputs": [],
   "source": [
    "import pandas as pd\n",
    "import numpy as np\n",
    "import matplotlib.pyplot as plt"
   ]
  },
  {
   "cell_type": "code",
   "execution_count": 7,
   "metadata": {},
   "outputs": [],
   "source": [
    "df = pd.read_csv('hillstrom.csv')"
   ]
  },
  {
   "cell_type": "code",
   "execution_count": 68,
   "metadata": {},
   "outputs": [
    {
     "data": {
      "text/plain": [
       "0    54606\n",
       "1     9394\n",
       "Name: visit, dtype: int64"
      ]
     },
     "execution_count": 68,
     "metadata": {},
     "output_type": "execute_result"
    }
   ],
   "source": [
    "df.visit.value_counts()"
   ]
  },
  {
   "cell_type": "code",
   "execution_count": 69,
   "metadata": {},
   "outputs": [
    {
     "data": {
      "text/plain": [
       "Womens E-Mail    21387\n",
       "Mens E-Mail      21307\n",
       "No E-Mail        21306\n",
       "Name: segment, dtype: int64"
      ]
     },
     "execution_count": 69,
     "metadata": {},
     "output_type": "execute_result"
    }
   ],
   "source": [
    "df.segment.value_counts()"
   ]
  },
  {
   "cell_type": "code",
   "execution_count": 88,
   "metadata": {},
   "outputs": [
    {
     "name": "stdout",
     "output_type": "stream",
     "text": [
      "Requirement already satisfied: pywin32 in c:\\users\\ernro\\documents\\uplift\\uplift\\upliftenv\\lib\\site-packages (228)\n"
     ]
    },
    {
     "name": "stderr",
     "output_type": "stream",
     "text": [
      "Error processing line 7 of C:\\Users\\ERNRO\\Documents\\uplift\\uplift\\upliftenv\\lib\\site-packages\\pywin32.pth:\n",
      "\n",
      "  Traceback (most recent call last):\n",
      "    File \"c:\\users\\ernro\\appdata\\local\\programs\\python\\python37\\lib\\site.py\", line 168, in addpackage\n",
      "      exec(line)\n",
      "    File \"<string>\", line 1, in <module>\n",
      "  ModuleNotFoundError: No module named 'pywin32_bootstrap'\n",
      "\n",
      "Remainder of file ignored\n",
      "Error processing line 7 of C:\\Users\\ERNRO\\Documents\\uplift\\uplift\\upliftenv\\lib\\site-packages\\pywin32.pth:\n",
      "\n",
      "  Traceback (most recent call last):\n",
      "    File \"c:\\users\\ernro\\appdata\\local\\programs\\python\\python37\\lib\\site.py\", line 168, in addpackage\n",
      "      exec(line)\n",
      "    File \"<string>\", line 1, in <module>\n",
      "  ModuleNotFoundError: No module named 'pywin32_bootstrap'\n",
      "\n",
      "Remainder of file ignored\n"
     ]
    }
   ],
   "source": [
    "!pip install --trusted-host pypi.python.org --trusted-host files.pythonhosted.org --trusted-host pypi.org  pywin32"
   ]
  },
  {
   "cell_type": "code",
   "execution_count": 83,
   "metadata": {},
   "outputs": [
    {
     "name": "stdout",
     "output_type": "stream",
     "text": [
      "Requirement already satisfied: imblearn in c:\\users\\ernro\\documents\\uplift\\uplift\\upliftenv\\lib\\site-packages (0.0)\n",
      "Requirement already satisfied: imbalanced-learn in c:\\users\\ernro\\documents\\uplift\\uplift\\upliftenv\\lib\\site-packages (from imblearn) (0.7.0)\n",
      "Requirement already satisfied: scikit-learn>=0.23 in c:\\users\\ernro\\documents\\uplift\\uplift\\upliftenv\\lib\\site-packages (from imbalanced-learn->imblearn) (0.23.1)\n",
      "Requirement already satisfied: scipy>=0.19.1 in c:\\users\\ernro\\documents\\uplift\\uplift\\upliftenv\\lib\\site-packages (from imbalanced-learn->imblearn) (1.5.1)\n",
      "Requirement already satisfied: numpy>=1.13.3 in c:\\users\\ernro\\documents\\uplift\\uplift\\upliftenv\\lib\\site-packages (from imbalanced-learn->imblearn) (1.19.0)\n",
      "Requirement already satisfied: joblib>=0.11 in c:\\users\\ernro\\documents\\uplift\\uplift\\upliftenv\\lib\\site-packages (from imbalanced-learn->imblearn) (0.16.0)\n",
      "Requirement already satisfied: threadpoolctl>=2.0.0 in c:\\users\\ernro\\documents\\uplift\\uplift\\upliftenv\\lib\\site-packages (from scikit-learn>=0.23->imbalanced-learn->imblearn) (2.1.0)\n"
     ]
    },
    {
     "name": "stderr",
     "output_type": "stream",
     "text": [
      "Error processing line 7 of C:\\Users\\ERNRO\\Documents\\uplift\\uplift\\upliftenv\\lib\\site-packages\\pywin32.pth:\n",
      "\n",
      "  Traceback (most recent call last):\n",
      "    File \"c:\\users\\ernro\\appdata\\local\\programs\\python\\python37\\lib\\site.py\", line 168, in addpackage\n",
      "      exec(line)\n",
      "    File \"<string>\", line 1, in <module>\n",
      "  ModuleNotFoundError: No module named 'pywin32_bootstrap'\n",
      "\n",
      "Remainder of file ignored\n",
      "Error processing line 7 of C:\\Users\\ERNRO\\Documents\\uplift\\uplift\\upliftenv\\lib\\site-packages\\pywin32.pth:\n",
      "\n",
      "  Traceback (most recent call last):\n",
      "    File \"c:\\users\\ernro\\appdata\\local\\programs\\python\\python37\\lib\\site.py\", line 168, in addpackage\n",
      "      exec(line)\n",
      "    File \"<string>\", line 1, in <module>\n",
      "  ModuleNotFoundError: No module named 'pywin32_bootstrap'\n",
      "\n",
      "Remainder of file ignored\n"
     ]
    }
   ],
   "source": [
    "!pip install imblearn"
   ]
  },
  {
   "cell_type": "code",
   "execution_count": 89,
   "metadata": {},
   "outputs": [
    {
     "data": {
      "text/html": [
       "<div>\n",
       "<style scoped>\n",
       "    .dataframe tbody tr th:only-of-type {\n",
       "        vertical-align: middle;\n",
       "    }\n",
       "\n",
       "    .dataframe tbody tr th {\n",
       "        vertical-align: top;\n",
       "    }\n",
       "\n",
       "    .dataframe thead th {\n",
       "        text-align: right;\n",
       "    }\n",
       "</style>\n",
       "<table border=\"1\" class=\"dataframe\">\n",
       "  <thead>\n",
       "    <tr style=\"text-align: right;\">\n",
       "      <th></th>\n",
       "      <th>recency</th>\n",
       "      <th>history</th>\n",
       "      <th>mens</th>\n",
       "      <th>womens</th>\n",
       "      <th>newbie</th>\n",
       "      <th>visit</th>\n",
       "      <th>conversion</th>\n",
       "      <th>spend</th>\n",
       "    </tr>\n",
       "  </thead>\n",
       "  <tbody>\n",
       "    <tr>\n",
       "      <th>recency</th>\n",
       "      <td>1.000000</td>\n",
       "      <td>-0.246591</td>\n",
       "      <td>-0.031336</td>\n",
       "      <td>-0.026617</td>\n",
       "      <td>-0.052106</td>\n",
       "      <td>-0.074765</td>\n",
       "      <td>-0.024412</td>\n",
       "      <td>-0.016348</td>\n",
       "    </tr>\n",
       "    <tr>\n",
       "      <th>history</th>\n",
       "      <td>-0.246591</td>\n",
       "      <td>1.000000</td>\n",
       "      <td>0.112677</td>\n",
       "      <td>0.114685</td>\n",
       "      <td>0.223279</td>\n",
       "      <td>0.065153</td>\n",
       "      <td>0.029405</td>\n",
       "      <td>0.021729</td>\n",
       "    </tr>\n",
       "    <tr>\n",
       "      <th>mens</th>\n",
       "      <td>-0.031336</td>\n",
       "      <td>0.112677</td>\n",
       "      <td>1.000000</td>\n",
       "      <td>-0.816943</td>\n",
       "      <td>0.020900</td>\n",
       "      <td>0.006712</td>\n",
       "      <td>0.002492</td>\n",
       "      <td>0.008599</td>\n",
       "    </tr>\n",
       "    <tr>\n",
       "      <th>womens</th>\n",
       "      <td>-0.026617</td>\n",
       "      <td>0.114685</td>\n",
       "      <td>-0.816943</td>\n",
       "      <td>1.000000</td>\n",
       "      <td>0.021346</td>\n",
       "      <td>0.051999</td>\n",
       "      <td>0.012702</td>\n",
       "      <td>0.002173</td>\n",
       "    </tr>\n",
       "    <tr>\n",
       "      <th>newbie</th>\n",
       "      <td>-0.052106</td>\n",
       "      <td>0.223279</td>\n",
       "      <td>0.020900</td>\n",
       "      <td>0.021346</td>\n",
       "      <td>1.000000</td>\n",
       "      <td>-0.073924</td>\n",
       "      <td>-0.011331</td>\n",
       "      <td>-0.007623</td>\n",
       "    </tr>\n",
       "    <tr>\n",
       "      <th>visit</th>\n",
       "      <td>-0.074765</td>\n",
       "      <td>0.065153</td>\n",
       "      <td>0.006712</td>\n",
       "      <td>0.051999</td>\n",
       "      <td>-0.073924</td>\n",
       "      <td>1.000000</td>\n",
       "      <td>0.230165</td>\n",
       "      <td>0.168507</td>\n",
       "    </tr>\n",
       "    <tr>\n",
       "      <th>conversion</th>\n",
       "      <td>-0.024412</td>\n",
       "      <td>0.029405</td>\n",
       "      <td>0.002492</td>\n",
       "      <td>0.012702</td>\n",
       "      <td>-0.011331</td>\n",
       "      <td>0.230165</td>\n",
       "      <td>1.000000</td>\n",
       "      <td>0.732114</td>\n",
       "    </tr>\n",
       "    <tr>\n",
       "      <th>spend</th>\n",
       "      <td>-0.016348</td>\n",
       "      <td>0.021729</td>\n",
       "      <td>0.008599</td>\n",
       "      <td>0.002173</td>\n",
       "      <td>-0.007623</td>\n",
       "      <td>0.168507</td>\n",
       "      <td>0.732114</td>\n",
       "      <td>1.000000</td>\n",
       "    </tr>\n",
       "  </tbody>\n",
       "</table>\n",
       "</div>"
      ],
      "text/plain": [
       "             recency   history      mens    womens    newbie     visit  \\\n",
       "recency     1.000000 -0.246591 -0.031336 -0.026617 -0.052106 -0.074765   \n",
       "history    -0.246591  1.000000  0.112677  0.114685  0.223279  0.065153   \n",
       "mens       -0.031336  0.112677  1.000000 -0.816943  0.020900  0.006712   \n",
       "womens     -0.026617  0.114685 -0.816943  1.000000  0.021346  0.051999   \n",
       "newbie     -0.052106  0.223279  0.020900  0.021346  1.000000 -0.073924   \n",
       "visit      -0.074765  0.065153  0.006712  0.051999 -0.073924  1.000000   \n",
       "conversion -0.024412  0.029405  0.002492  0.012702 -0.011331  0.230165   \n",
       "spend      -0.016348  0.021729  0.008599  0.002173 -0.007623  0.168507   \n",
       "\n",
       "            conversion     spend  \n",
       "recency      -0.024412 -0.016348  \n",
       "history       0.029405  0.021729  \n",
       "mens          0.002492  0.008599  \n",
       "womens        0.012702  0.002173  \n",
       "newbie       -0.011331 -0.007623  \n",
       "visit         0.230165  0.168507  \n",
       "conversion    1.000000  0.732114  \n",
       "spend         0.732114  1.000000  "
      ]
     },
     "execution_count": 89,
     "metadata": {},
     "output_type": "execute_result"
    }
   ],
   "source": [
    "df.corr()"
   ]
  },
  {
   "cell_type": "code",
   "execution_count": 90,
   "metadata": {},
   "outputs": [
    {
     "data": {
      "text/plain": [
       "0    54606\n",
       "1     9394\n",
       "Name: visit, dtype: int64"
      ]
     },
     "execution_count": 90,
     "metadata": {},
     "output_type": "execute_result"
    }
   ],
   "source": [
    "df.visit.value_counts()"
   ]
  },
  {
   "cell_type": "code",
   "execution_count": 91,
   "metadata": {},
   "outputs": [],
   "source": [
    "features = ['recency', 'history', 'mens', 'womens', 'zip_code', 'newbie', 'channel', 'segment']\n",
    "data = df.drop('history_segment', axis=1)\n",
    "training = pd.get_dummies(data[features])\n",
    "target = data[['visit', 'conversion', 'spend']]"
   ]
  },
  {
   "cell_type": "code",
   "execution_count": 92,
   "metadata": {},
   "outputs": [
    {
     "name": "stdout",
     "output_type": "stream",
     "text": [
      "Womens E-Mail\n",
      "0    18149\n",
      "1     3238\n",
      "Name: visit, dtype: int64\n",
      "0    21198\n",
      "1      189\n",
      "Name: conversion, dtype: int64\n",
      "No E-Mail\n",
      "0    19044\n",
      "1     2262\n",
      "Name: visit, dtype: int64\n",
      "0    21184\n",
      "1      122\n",
      "Name: conversion, dtype: int64\n",
      "Mens E-Mail\n",
      "0    17413\n",
      "1     3894\n",
      "Name: visit, dtype: int64\n",
      "0    21040\n",
      "1      267\n",
      "Name: conversion, dtype: int64\n"
     ]
    }
   ],
   "source": [
    "for a in data.segment.unique():\n",
    "    print(a)\n",
    "    print(data.loc[data.segment == a].visit.value_counts())\n",
    "    print(data.loc[data.segment == a].conversion.value_counts())"
   ]
  },
  {
   "cell_type": "code",
   "execution_count": 93,
   "metadata": {},
   "outputs": [],
   "source": [
    "import seaborn as sns"
   ]
  },
  {
   "cell_type": "code",
   "execution_count": 94,
   "metadata": {},
   "outputs": [],
   "source": [
    "features1 = ['recency', 'history', 'mens', 'womens', 'zip_code',\n",
    "       'newbie', 'channel', 'segment']\n",
    "#target_cols = ['visit', 'conversion', 'spend']\n",
    "#t1 = df.loc[df.segment == 'Womens E-Mail']\n",
    "#t2 = df.loc[df.segment == 'Mens E-Mail']\n",
    "#c = df.loc[df.segment == 'No E-Mail']\n",
    "#X = df[features]\n",
    "#y = df[target_cols]"
   ]
  },
  {
   "cell_type": "code",
   "execution_count": 95,
   "metadata": {},
   "outputs": [],
   "source": [
    "data1 = df[features1]\n",
    "target1 = df['visit']"
   ]
  },
  {
   "cell_type": "markdown",
   "metadata": {},
   "source": [
    "# Visit Model"
   ]
  },
  {
   "cell_type": "code",
   "execution_count": 96,
   "metadata": {},
   "outputs": [],
   "source": [
    "from sklearn.model_selection import train_test_split\n",
    "from sklearn.preprocessing import MinMaxScaler\n",
    "scaler = MinMaxScaler()\n",
    "train1 = pd.get_dummies(data1)\n",
    "#c_train = scaler.fit_transform(c_train)\n",
    "X_train, X_test, y_train, y_test = train_test_split(train1, \n",
    "                                                    target1, \n",
    "                                                    test_size=.3,\n",
    "                                                    random_state=42)"
   ]
  },
  {
   "cell_type": "code",
   "execution_count": 99,
   "metadata": {},
   "outputs": [
    {
     "data": {
      "text/plain": [
       "CalibratedClassifierCV(base_estimator=RandomForestClassifier(bootstrap=True,\n",
       "                                                             ccp_alpha=0.0,\n",
       "                                                             class_weight='balanced',\n",
       "                                                             criterion='gini',\n",
       "                                                             max_depth=None,\n",
       "                                                             max_features='auto',\n",
       "                                                             max_leaf_nodes=None,\n",
       "                                                             max_samples=None,\n",
       "                                                             min_impurity_decrease=0.0,\n",
       "                                                             min_impurity_split=None,\n",
       "                                                             min_samples_leaf=1,\n",
       "                                                             min_samples_split=2,\n",
       "                                                             min_weight_fraction_leaf=0.0,\n",
       "                                                             n_estimators=100,\n",
       "                                                             n_jobs=None,\n",
       "                                                             oob_score=False,\n",
       "                                                             random_state=None,\n",
       "                                                             verbose=0,\n",
       "                                                             warm_start=False),\n",
       "                       cv=10, method='isotonic')"
      ]
     },
     "execution_count": 99,
     "metadata": {},
     "output_type": "execute_result"
    }
   ],
   "source": [
    "from sklearn.linear_model import LogisticRegression, Lasso, SGDClassifier\n",
    "from sklearn.ensemble import RandomForestClassifier\n",
    "from sklearn.calibration import CalibratedClassifierCV\n",
    "from lightgbm import LGBMClassifier\n",
    "from sklearn.pipeline import make_pipeline\n",
    "from sklearn.metrics import classification_report, confusion_matrix\n",
    "\n",
    "clf1 = CalibratedClassifierCV(RandomForestClassifier(class_weight='balanced'),\n",
    "                             method='isotonic', cv=10)\n",
    "clf1.fit(X_train, y_train)"
   ]
  },
  {
   "cell_type": "code",
   "execution_count": 104,
   "metadata": {},
   "outputs": [
    {
     "data": {
      "text/plain": [
       "(19200, 14)"
      ]
     },
     "execution_count": 104,
     "metadata": {},
     "output_type": "execute_result"
    }
   ],
   "source": [
    "X_test.shape"
   ]
  },
  {
   "cell_type": "code",
   "execution_count": 105,
   "metadata": {},
   "outputs": [
    {
     "name": "stdout",
     "output_type": "stream",
     "text": [
      "              precision    recall  f1-score   support\n",
      "\n",
      "           0       0.86      0.78      0.82     16389\n",
      "           1       0.18      0.28      0.22      2811\n",
      "\n",
      "    accuracy                           0.71     19200\n",
      "   macro avg       0.52      0.53      0.52     19200\n",
      "weighted avg       0.76      0.71      0.73     19200\n",
      "\n",
      "[[12806  3583]\n",
      " [ 2025   786]]\n"
     ]
    }
   ],
   "source": [
    "y_pred_proba = clf1.predict_proba(X_test)[:,1]\n",
    "y_pred = [1 if x > .17 else 0 for x in y_pred_proba]\n",
    "print(classification_report(y_test, y_pred))\n",
    "print(confusion_matrix(y_test, y_pred))"
   ]
  },
  {
   "cell_type": "code",
   "execution_count": 106,
   "metadata": {},
   "outputs": [
    {
     "data": {
      "text/plain": [
       "<matplotlib.axes._subplots.AxesSubplot at 0x29f84a7c288>"
      ]
     },
     "execution_count": 106,
     "metadata": {},
     "output_type": "execute_result"
    },
    {
     "data": {
      "image/png": "[encoded data removed]",
      "text/plain": [
       "<Figure size 432x288 with 1 Axes>"
      ]
     },
     "metadata": {
      "needs_background": "light"
     },
     "output_type": "display_data"
    }
   ],
   "source": [
    "pd.Series(y_pred_proba).hist(bins=100)"
   ]
  },
  {
   "cell_type": "code",
   "execution_count": 107,
   "metadata": {},
   "outputs": [],
   "source": [
    "probs = {'RandomForest' : y_pred_proba}"
   ]
  },
  {
   "cell_type": "code",
   "execution_count": 108,
   "metadata": {},
   "outputs": [],
   "source": [
    "from sklearn.metrics import log_loss\n",
    "from sklearn.metrics import brier_score_loss\n",
    "\n",
    "def proba_scoring(proba_dict, label):\n",
    "    '''Computes the log_loss and brier_score_loss metrics.'''\n",
    "    score = {}\n",
    "    for name in proba_dict.keys():\n",
    "        \n",
    "        ll = np.round(log_loss(label, proba_dict[name]),3)\n",
    "        bl = np.round(brier_score_loss(label, proba_dict[name]),3)\n",
    "        \n",
    "        score[name] = [ll, bl]\n",
    "    return score"
   ]
  },
  {
   "cell_type": "code",
   "execution_count": 109,
   "metadata": {},
   "outputs": [],
   "source": [
    "score = proba_scoring(probs, y_test)"
   ]
  },
  {
   "cell_type": "code",
   "execution_count": 110,
   "metadata": {},
   "outputs": [
    {
     "data": {
      "image/png": "[encoded data removed]",
      "text/plain": [
       "<Figure size 504x360 with 1 Axes>"
      ]
     },
     "metadata": {
      "needs_background": "light"
     },
     "output_type": "display_data"
    }
   ],
   "source": [
    "from sklearn.calibration import calibration_curve\n",
    "fig = plt.figure(figsize=(7, 5))\n",
    "plt.plot([0, 1], [0, 1], \"k:\", label=\"Perfectly calibrated\")\n",
    "\n",
    "for name in probs.keys():\n",
    "    frac_of_pos, mean_pred_value = calibration_curve(y_test, probs[name], n_bins=7)\n",
    "\n",
    "    plt.plot(mean_pred_value, frac_of_pos, \"s-\", label=f'{name}')\n",
    "\n",
    "plt.ylabel(\"Fraction of positives\")\n",
    "plt.ylim([-0.05, 1.05])\n",
    "plt.legend(loc=\"lower right\")\n",
    "plt.title(f'Calibration plot')\n",
    "plt.show()\n",
    "fig.savefig('plots/Calibration_plot.png')"
   ]
  },
  {
   "cell_type": "markdown",
   "metadata": {},
   "source": [
    "## Conversion Model"
   ]
  },
  {
   "cell_type": "code",
   "execution_count": 112,
   "metadata": {},
   "outputs": [],
   "source": [
    "features2 = features1 + ['visit']"
   ]
  },
  {
   "cell_type": "code",
   "execution_count": 113,
   "metadata": {},
   "outputs": [
    {
     "data": {
      "text/plain": [
       "CalibratedClassifierCV(base_estimator=RandomForestClassifier(bootstrap=True,\n",
       "                                                             ccp_alpha=0.0,\n",
       "                                                             class_weight='balanced',\n",
       "                                                             criterion='gini',\n",
       "                                                             max_depth=None,\n",
       "                                                             max_features='auto',\n",
       "                                                             max_leaf_nodes=None,\n",
       "                                                             max_samples=None,\n",
       "                                                             min_impurity_decrease=0.0,\n",
       "                                                             min_impurity_split=None,\n",
       "                                                             min_samples_leaf=1,\n",
       "                                                             min_samples_split=2,\n",
       "                                                             min_weight_fraction_leaf=0.0,\n",
       "                                                             n_estimators=100,\n",
       "                                                             n_jobs=None,\n",
       "                                                             oob_score=False,\n",
       "                                                             random_state=None,\n",
       "                                                             verbose=0,\n",
       "                                                             warm_start=False),\n",
       "                       cv=10, method='isotonic')"
      ]
     },
     "execution_count": 113,
     "metadata": {},
     "output_type": "execute_result"
    }
   ],
   "source": [
    "train2 = pd.get_dummies(df[features2])\n",
    "target2 = df['conversion']\n",
    "\n",
    "X_train, X_test, y_train, y_test = train_test_split(train2, \n",
    "                                                    target2, \n",
    "                                                    test_size=.3,\n",
    "                                                    random_state=42)\n",
    "clf2 = CalibratedClassifierCV(RandomForestClassifier(class_weight='balanced'),\n",
    "                             method='isotonic', cv=10)\n",
    "clf2.fit(X_train, y_train)"
   ]
  },
  {
   "cell_type": "code",
   "execution_count": 114,
   "metadata": {},
   "outputs": [
    {
     "name": "stdout",
     "output_type": "stream",
     "text": [
      "              precision    recall  f1-score   support\n",
      "\n",
      "           0       0.99      0.96      0.97     19024\n",
      "           1       0.06      0.33      0.11       176\n",
      "\n",
      "    accuracy                           0.95     19200\n",
      "   macro avg       0.53      0.64      0.54     19200\n",
      "weighted avg       0.99      0.95      0.97     19200\n",
      "\n",
      "[[18176   848]\n",
      " [  118    58]]\n"
     ]
    }
   ],
   "source": [
    "y_pred_proba = clf.predict_proba(X_test)[:,1]\n",
    "y_pred = [1 if x > .05 else 0 for x in y_pred_proba]\n",
    "print(classification_report(y_test, y_pred))\n",
    "print(confusion_matrix(y_test, y_pred))"
   ]
  },
  {
   "cell_type": "code",
   "execution_count": 115,
   "metadata": {},
   "outputs": [
    {
     "data": {
      "text/plain": [
       "<matplotlib.axes._subplots.AxesSubplot at 0x29fce7235c8>"
      ]
     },
     "execution_count": 115,
     "metadata": {},
     "output_type": "execute_result"
    },
    {
     "data": {
      "image/png": "[encoded data removed]",
      "text/plain": [
       "<Figure size 432x288 with 1 Axes>"
      ]
     },
     "metadata": {
      "needs_background": "light"
     },
     "output_type": "display_data"
    }
   ],
   "source": [
    "pd.Series(y_pred_proba).hist(bins=50)"
   ]
  },
  {
   "cell_type": "code",
   "execution_count": 116,
   "metadata": {},
   "outputs": [],
   "source": [
    "probs = {'RandomForest' : y_pred_proba}"
   ]
  },
  {
   "cell_type": "code",
   "execution_count": 117,
   "metadata": {},
   "outputs": [
    {
     "data": {
      "image/png": "[encoded data removed]",
      "text/plain": [
       "<Figure size 504x360 with 1 Axes>"
      ]
     },
     "metadata": {
      "needs_background": "light"
     },
     "output_type": "display_data"
    }
   ],
   "source": [
    "from sklearn.calibration import calibration_curve\n",
    "fig = plt.figure(figsize=(7, 5))\n",
    "plt.plot([0, 1], [0, 1], \"k:\", label=\"Perfectly calibrated\")\n",
    "\n",
    "for name in probs.keys():\n",
    "    frac_of_pos, mean_pred_value = calibration_curve(y_test, probs[name], n_bins=10)\n",
    "\n",
    "    plt.plot(mean_pred_value, frac_of_pos, \"s-\", label=f'{name}')\n",
    "\n",
    "plt.ylabel(\"Fraction of positives\")\n",
    "plt.ylim([-0.05, 1.05])\n",
    "plt.legend(loc=\"lower right\")\n",
    "plt.title(f'Calibration plot')\n",
    "plt.show()\n",
    "fig.savefig('plots/Calibration_plot.png')"
   ]
  },
  {
   "cell_type": "markdown",
   "metadata": {},
   "source": [
    "# Spending Model"
   ]
  },
  {
   "cell_type": "code",
   "execution_count": 118,
   "metadata": {},
   "outputs": [
    {
     "data": {
      "text/plain": [
       "Index(['recency', 'history_segment', 'history', 'mens', 'womens', 'zip_code',\n",
       "       'newbie', 'channel', 'segment', 'visit', 'conversion', 'spend'],\n",
       "      dtype='object')"
      ]
     },
     "execution_count": 118,
     "metadata": {},
     "output_type": "execute_result"
    }
   ],
   "source": [
    "df.columns"
   ]
  },
  {
   "cell_type": "code",
   "execution_count": 119,
   "metadata": {},
   "outputs": [
    {
     "data": {
      "text/plain": [
       "VotingRegressor(estimators=[('gbm',\n",
       "                             GradientBoostingRegressor(alpha=0.9, ccp_alpha=0.0,\n",
       "                                                       criterion='friedman_mse',\n",
       "                                                       init=None,\n",
       "                                                       learning_rate=0.1,\n",
       "                                                       loss='ls', max_depth=3,\n",
       "                                                       max_features=None,\n",
       "                                                       max_leaf_nodes=None,\n",
       "                                                       min_impurity_decrease=0.0,\n",
       "                                                       min_impurity_split=None,\n",
       "                                                       min_samples_leaf=1,\n",
       "                                                       min_samples_split=2,\n",
       "                                                       min_weight_fraction_leaf=0.0,\n",
       "                                                       n_estimators=100,\n",
       "                                                       n_iter_no_change=...\n",
       "                                           class_weight=None,\n",
       "                                           colsample_bytree=1.0,\n",
       "                                           importance_type='split',\n",
       "                                           learning_rate=0.1, max_depth=-1,\n",
       "                                           min_child_samples=20,\n",
       "                                           min_child_weight=0.001,\n",
       "                                           min_split_gain=0.0, n_estimators=100,\n",
       "                                           n_jobs=-1, num_leaves=31,\n",
       "                                           objective=None, random_state=None,\n",
       "                                           reg_alpha=0.0, reg_lambda=0.0,\n",
       "                                           silent=True, subsample=1.0,\n",
       "                                           subsample_for_bin=200000,\n",
       "                                           subsample_freq=0))],\n",
       "                n_jobs=None, weights=None)"
      ]
     },
     "execution_count": 119,
     "metadata": {},
     "output_type": "execute_result"
    }
   ],
   "source": [
    "from sklearn.linear_model import ElasticNet\n",
    "from sklearn.ensemble import RandomForestRegressor\n",
    "from sklearn.ensemble import GradientBoostingRegressor\n",
    "from lightgbm import LGBMRegressor\n",
    "from sklearn.ensemble import VotingRegressor\n",
    "s = df.copy()\n",
    "features = ['recency', 'history', 'mens', 'womens', 'zip_code',\n",
    "       'newbie', 'channel', 'segment', 'visit', 'conversion']\n",
    "spend_train = pd.get_dummies(s[features])\n",
    "spend_target = s['spend']\n",
    "\n",
    "X_train, X_test, y_train, y_test = train_test_split(spend_train, \n",
    "                                                    spend_target, \n",
    "                                                    test_size=.3,\n",
    "                                                    random_state=42)\n",
    "model1 = GradientBoostingRegressor()\n",
    "model2 = RandomForestRegressor()\n",
    "model3 = LGBMRegressor()\n",
    "\n",
    "er = VotingRegressor([('gbm', model1), ('rf', model2), ('lgbm', model3)])\n",
    "er.fit(X_train, y_train)"
   ]
  },
  {
   "cell_type": "code",
   "execution_count": 120,
   "metadata": {},
   "outputs": [],
   "source": [
    "from sklearn.metrics import mean_squared_error\n",
    "y_pred = er.predict(X_test)"
   ]
  },
  {
   "cell_type": "code",
   "execution_count": 121,
   "metadata": {},
   "outputs": [
    {
     "data": {
      "text/plain": [
       "116.7108326101291"
      ]
     },
     "execution_count": 121,
     "metadata": {},
     "output_type": "execute_result"
    }
   ],
   "source": [
    "mean_squared_error(y_test, y_pred)"
   ]
  },
  {
   "cell_type": "code",
   "execution_count": 122,
   "metadata": {},
   "outputs": [
    {
     "data": {
      "text/plain": [
       "[<matplotlib.lines.Line2D at 0x29fcf5e9ec8>]"
      ]
     },
     "execution_count": 122,
     "metadata": {},
     "output_type": "execute_result"
    },
    {
     "data": {
      "image/png": "[encoded data removed]",
      "text/plain": [
       "<Figure size 432x288 with 1 Axes>"
      ]
     },
     "metadata": {
      "needs_background": "light"
     },
     "output_type": "display_data"
    }
   ],
   "source": [
    "plt.plot(np.arange(len(y_pred)), y_pred)\n",
    "plt.plot(np.arange(len(y_pred)), y_test)"
   ]
  },
  {
   "cell_type": "code",
   "execution_count": 131,
   "metadata": {},
   "outputs": [
    {
     "ename": "AttributeError",
     "evalue": "'CalibratedClassifierCV' object has no attribute 'predit_proba'",
     "output_type": "error",
     "traceback": [
      "\u001b[1;31m---------------------------------------------------------------------------\u001b[0m",
      "\u001b[1;31mAttributeError\u001b[0m                            Traceback (most recent call last)",
      "\u001b[1;32m<ipython-input-131-60422dac3eb5>\u001b[0m in \u001b[0;36m<module>\u001b[1;34m\u001b[0m\n\u001b[0;32m      3\u001b[0m \u001b[0mvisit_proba\u001b[0m \u001b[1;33m=\u001b[0m \u001b[0mclf1\u001b[0m\u001b[1;33m.\u001b[0m\u001b[0mpredict_proba\u001b[0m\u001b[1;33m(\u001b[0m\u001b[0mval_data\u001b[0m\u001b[1;33m)\u001b[0m\u001b[1;33m[\u001b[0m\u001b[1;33m:\u001b[0m\u001b[1;33m,\u001b[0m\u001b[1;36m1\u001b[0m\u001b[1;33m]\u001b[0m\u001b[1;33m\u001b[0m\u001b[1;33m\u001b[0m\u001b[0m\n\u001b[0;32m      4\u001b[0m \u001b[0mval_data\u001b[0m\u001b[1;33m[\u001b[0m\u001b[1;34m'visit'\u001b[0m\u001b[1;33m]\u001b[0m \u001b[1;33m=\u001b[0m \u001b[0mvisit_proba\u001b[0m\u001b[1;33m\u001b[0m\u001b[1;33m\u001b[0m\u001b[0m\n\u001b[1;32m----> 5\u001b[1;33m \u001b[0mpurchase_proba\u001b[0m \u001b[1;33m=\u001b[0m \u001b[0mclf2\u001b[0m\u001b[1;33m.\u001b[0m\u001b[0mpredit_proba\u001b[0m\u001b[1;33m(\u001b[0m\u001b[0mval_data\u001b[0m\u001b[1;33m)\u001b[0m\u001b[1;33m[\u001b[0m\u001b[1;33m:\u001b[0m\u001b[1;33m,\u001b[0m\u001b[1;36m1\u001b[0m\u001b[1;33m]\u001b[0m\u001b[1;33m\u001b[0m\u001b[1;33m\u001b[0m\u001b[0m\n\u001b[0m",
      "\u001b[1;31mAttributeError\u001b[0m: 'CalibratedClassifierCV' object has no attribute 'predit_proba'"
     ]
    }
   ],
   "source": [
    "val_data = X_test.copy()\n",
    "val_data = val_data.drop(['visit', 'conversion'], axis=1)\n",
    "visit_proba = clf1.predict_proba(val_data)[:,1]\n",
    "val_data['visit'] = visit_proba"
   ]
  },
  {
   "cell_type": "code",
   "execution_count": 132,
   "metadata": {},
   "outputs": [],
   "source": [
    "purchase_proba = clf2.predict_proba(val_data)[:,1]"
   ]
  },
  {
   "cell_type": "code",
   "execution_count": 134,
   "metadata": {},
   "outputs": [],
   "source": [
    "val_data2 = val_data.copy()\n",
    "val_data2['conversion'] = purchase_proba"
   ]
  },
  {
   "cell_type": "code",
   "execution_count": 138,
   "metadata": {},
   "outputs": [
    {
     "data": {
      "text/plain": [
       "7231.574261795182"
      ]
     },
     "execution_count": 138,
     "metadata": {},
     "output_type": "execute_result"
    }
   ],
   "source": [
    "y_pred = er.predict(val_data2)\n",
    "mean_squared_error(y_test, y_pred)"
   ]
  },
  {
   "cell_type": "code",
   "execution_count": 139,
   "metadata": {},
   "outputs": [
    {
     "data": {
      "text/plain": [
       "[<matplotlib.lines.Line2D at 0x29fceb07108>]"
      ]
     },
     "execution_count": 139,
     "metadata": {},
     "output_type": "execute_result"
    },
    {
     "data": {
      "image/png": "[encoded data removed]",
      "text/plain": [
       "<Figure size 432x288 with 1 Axes>"
      ]
     },
     "metadata": {
      "needs_background": "light"
     },
     "output_type": "display_data"
    }
   ],
   "source": [
    "plt.plot(np.arange(len(y_pred)), y_pred)\n",
    "plt.plot(np.arange(len(y_pred)), y_test)"
   ]
  },
  {
   "cell_type": "code",
   "execution_count": null,
   "metadata": {},
   "outputs": [],
   "source": []
  }
 ],
 "metadata": {
  "kernelspec": {
   "display_name": "Python 3",
   "language": "python",
   "name": "python3"
  },
  "language_info": {
   "codemirror_mode": {
    "name": "ipython",
    "version": 3
   },
   "file_extension": ".py",
   "mimetype": "text/x-python",
   "name": "python",
   "nbconvert_exporter": "python",
   "pygments_lexer": "ipython3",
   "version": "3.7.5"
  }
 },
 "nbformat": 4,
 "nbformat_minor": 2
}
