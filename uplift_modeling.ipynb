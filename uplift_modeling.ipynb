{
 "cells": [
  {
   "cell_type": "code",
   "execution_count": 76,
   "metadata": {},
   "outputs": [],
   "source": [
    "# load in packages\n",
    "from itertools import combinations\n",
    "\n",
    "from test_results import valid_results, test_results, score\n",
    "import numpy as np\n",
    "import pandas as pd\n",
    "import scipy as sp\n",
    "import sklearn as sk\n",
    "import lightgbm as lgbm\n",
    "from sklearn.linear_model import LogisticRegression\n",
    "from imblearn.over_sampling import SMOTE\n",
    "from statsmodels.stats.power import NormalIndPower\n",
    "from statsmodels.stats.proportion import proportion_effectsize\n",
    "\n",
    "import matplotlib.pyplot as plt\n",
    "import seaborn as sb"
   ]
  },
  {
   "cell_type": "code",
   "execution_count": 2,
   "metadata": {},
   "outputs": [],
   "source": [
    "train = pd.read_csv('starbucks_train.txt', index_col=0)"
   ]
  },
  {
   "cell_type": "code",
   "execution_count": 55,
   "metadata": {},
   "outputs": [],
   "source": [
    "test = pd.read_csv('starbucks_test.txt', index_col=0)"
   ]
  },
  {
   "cell_type": "code",
   "execution_count": 15,
   "metadata": {},
   "outputs": [],
   "source": [
    "import pandas as pd\n",
    "import numpy as np\n",
    "\n",
    "def score(df, promo_pred_col = 'Promotion'):\n",
    "    n_treat       = df.loc[df[promo_pred_col] == 'Yes',:].shape[0]\n",
    "    n_control     = df.loc[df[promo_pred_col] == 'No',:].shape[0]\n",
    "    n_treat_purch = df.loc[df[promo_pred_col] == 'Yes', 'purchase'].sum()\n",
    "    n_ctrl_purch  = df.loc[df[promo_pred_col] == 'No', 'purchase'].sum()\n",
    "    irr = n_treat_purch / n_treat - n_ctrl_purch / n_control\n",
    "    nir = 10 * n_treat_purch - 0.15 * n_treat - 10 * n_ctrl_purch\n",
    "    return (irr, nir)\n",
    "    \n",
    "\n",
    "def test_results(promotion_strategy):\n",
    "    test_data = pd.read_csv('starbucks_test.txt')\n",
    "    df = test_data[['V1', 'V2', 'V3', 'V4', 'V5', 'V6', 'V7']]\n",
    "    promos = promotion_strategy(df)\n",
    "    score_df = test_data.iloc[np.where(promos == 'Yes')]    \n",
    "    irr, nir = score(score_df)\n",
    "    print(\"Nice job!  See how well your strategy worked on our test data below!\")\n",
    "    print()\n",
    "    print('Your irr with this strategy is {:0.4f}.'.format(irr))\n",
    "    print()\n",
    "    print('Your nir with this strategy is {:0.2f}.'.format(nir))\n",
    "    \n",
    "    print(\"We came up with a model with an irr of {} and an nir of {} on the test set.\\n\\n How did you do?\".format(0.0188, 189.45))\n",
    "    return irr, nir\n",
    "\n",
    "# added this function to test our irr and nlr on the validation set\n",
    "def valid_results(promotion_strategy, valid_data):\n",
    "    df = valid_data[['V1', 'V2', 'V3', 'V4', 'V5', 'V6', 'V7']]\n",
    "    promos = promotion_strategy(df)\n",
    "    score_df = valid_data.iloc[np.where(promos == 'Yes')]    \n",
    "    irr, nir = score(score_df)\n",
    "    print(\"Nice job!  See how well your strategy worked on our valid data below!\")\n",
    "    print()\n",
    "    print('Your irr with this strategy is {:0.4f}.'.format(irr))\n",
    "    print()\n",
    "    print('Your nir with this strategy is {:0.2f}.'.format(nir))\n",
    "    \n",
    "    print(\"We came up with a model with an irr of {} and an nir of {} on the test set.\\n\\n How did you do?\".format(0.0188, 189.45))\n",
    "    return irr, nir"
   ]
  },
  {
   "cell_type": "code",
   "execution_count": 19,
   "metadata": {},
   "outputs": [],
   "source": [
    "# testing baseline model, where we send promotions to everyone\n",
    "\n",
    "def promotion_strategy(df):\n",
    "    '''\n",
    "    INPUT \n",
    "    df - a dataframe with *only* the columns V1 - V7 (same as train_data)\n",
    "\n",
    "    OUTPUT\n",
    "    promotion_df - np.array with the values\n",
    "                   'Yes' or 'No' related to whether or not an \n",
    "                   individual should recieve a promotion \n",
    "                   should be the length of df.shape[0]            \n",
    "    Ex:\n",
    "    INPUT: df\n",
    "    \n",
    "    V1\tV2\t  V3\tV4\tV5\tV6\tV7\n",
    "    2\t30\t-1.1\t1\t1\t3\t2\n",
    "    3\t32\t-0.6\t2\t3\t2\t2\n",
    "    2\t30\t0.13\t1\t1\t4\t2\n",
    "    \n",
    "    OUTPUT: promotion\n",
    "    \n",
    "    array(['Yes', 'Yes', 'No'])\n",
    "    indicating the first two users would recieve the promotion and \n",
    "    the last should not.\n",
    "    '''\n",
    "    test = df\n",
    "    \n",
    "    promotion = []\n",
    "    \n",
    "    num_test_points = test.shape[0]\n",
    "    \n",
    "    for i in range(num_test_points):\n",
    "        promotion.append('Yes')\n",
    "        \n",
    "    promotion = np.array(promotion)\n",
    "    \n",
    "    return promotion"
   ]
  },
  {
   "cell_type": "code",
   "execution_count": 22,
   "metadata": {},
   "outputs": [
    {
     "data": {
      "text/html": [
       "<div>\n",
       "<style scoped>\n",
       "    .dataframe tbody tr th:only-of-type {\n",
       "        vertical-align: middle;\n",
       "    }\n",
       "\n",
       "    .dataframe tbody tr th {\n",
       "        vertical-align: top;\n",
       "    }\n",
       "\n",
       "    .dataframe thead th {\n",
       "        text-align: right;\n",
       "    }\n",
       "</style>\n",
       "<table border=\"1\" class=\"dataframe\">\n",
       "  <thead>\n",
       "    <tr style=\"text-align: right;\">\n",
       "      <th></th>\n",
       "      <th>Promotion</th>\n",
       "      <th>purchase</th>\n",
       "      <th>V1</th>\n",
       "      <th>V2</th>\n",
       "      <th>V3</th>\n",
       "      <th>V4</th>\n",
       "      <th>V5</th>\n",
       "      <th>V6</th>\n",
       "      <th>V7</th>\n",
       "    </tr>\n",
       "    <tr>\n",
       "      <th>ID</th>\n",
       "      <th></th>\n",
       "      <th></th>\n",
       "      <th></th>\n",
       "      <th></th>\n",
       "      <th></th>\n",
       "      <th></th>\n",
       "      <th></th>\n",
       "      <th></th>\n",
       "      <th></th>\n",
       "    </tr>\n",
       "  </thead>\n",
       "  <tbody>\n",
       "    <tr>\n",
       "      <th>1</th>\n",
       "      <td>No</td>\n",
       "      <td>0</td>\n",
       "      <td>2</td>\n",
       "      <td>30.443518</td>\n",
       "      <td>-1.165083</td>\n",
       "      <td>1</td>\n",
       "      <td>1</td>\n",
       "      <td>3</td>\n",
       "      <td>2</td>\n",
       "    </tr>\n",
       "    <tr>\n",
       "      <th>3</th>\n",
       "      <td>No</td>\n",
       "      <td>0</td>\n",
       "      <td>3</td>\n",
       "      <td>32.159350</td>\n",
       "      <td>-0.645617</td>\n",
       "      <td>2</td>\n",
       "      <td>3</td>\n",
       "      <td>2</td>\n",
       "      <td>2</td>\n",
       "    </tr>\n",
       "    <tr>\n",
       "      <th>4</th>\n",
       "      <td>No</td>\n",
       "      <td>0</td>\n",
       "      <td>2</td>\n",
       "      <td>30.431659</td>\n",
       "      <td>0.133583</td>\n",
       "      <td>1</td>\n",
       "      <td>1</td>\n",
       "      <td>4</td>\n",
       "      <td>2</td>\n",
       "    </tr>\n",
       "    <tr>\n",
       "      <th>5</th>\n",
       "      <td>No</td>\n",
       "      <td>0</td>\n",
       "      <td>0</td>\n",
       "      <td>26.588914</td>\n",
       "      <td>-0.212728</td>\n",
       "      <td>2</td>\n",
       "      <td>1</td>\n",
       "      <td>4</td>\n",
       "      <td>2</td>\n",
       "    </tr>\n",
       "    <tr>\n",
       "      <th>8</th>\n",
       "      <td>Yes</td>\n",
       "      <td>0</td>\n",
       "      <td>3</td>\n",
       "      <td>28.044332</td>\n",
       "      <td>-0.385883</td>\n",
       "      <td>1</td>\n",
       "      <td>1</td>\n",
       "      <td>2</td>\n",
       "      <td>2</td>\n",
       "    </tr>\n",
       "    <tr>\n",
       "      <th>...</th>\n",
       "      <td>...</td>\n",
       "      <td>...</td>\n",
       "      <td>...</td>\n",
       "      <td>...</td>\n",
       "      <td>...</td>\n",
       "      <td>...</td>\n",
       "      <td>...</td>\n",
       "      <td>...</td>\n",
       "      <td>...</td>\n",
       "    </tr>\n",
       "    <tr>\n",
       "      <th>126180</th>\n",
       "      <td>No</td>\n",
       "      <td>0</td>\n",
       "      <td>1</td>\n",
       "      <td>30.084876</td>\n",
       "      <td>1.345672</td>\n",
       "      <td>1</td>\n",
       "      <td>1</td>\n",
       "      <td>3</td>\n",
       "      <td>1</td>\n",
       "    </tr>\n",
       "    <tr>\n",
       "      <th>126181</th>\n",
       "      <td>Yes</td>\n",
       "      <td>0</td>\n",
       "      <td>3</td>\n",
       "      <td>33.501485</td>\n",
       "      <td>-0.299306</td>\n",
       "      <td>1</td>\n",
       "      <td>1</td>\n",
       "      <td>4</td>\n",
       "      <td>1</td>\n",
       "    </tr>\n",
       "    <tr>\n",
       "      <th>126182</th>\n",
       "      <td>No</td>\n",
       "      <td>0</td>\n",
       "      <td>1</td>\n",
       "      <td>31.492019</td>\n",
       "      <td>1.085939</td>\n",
       "      <td>2</td>\n",
       "      <td>3</td>\n",
       "      <td>2</td>\n",
       "      <td>2</td>\n",
       "    </tr>\n",
       "    <tr>\n",
       "      <th>126183</th>\n",
       "      <td>No</td>\n",
       "      <td>0</td>\n",
       "      <td>1</td>\n",
       "      <td>37.766106</td>\n",
       "      <td>0.999361</td>\n",
       "      <td>2</td>\n",
       "      <td>2</td>\n",
       "      <td>1</td>\n",
       "      <td>2</td>\n",
       "    </tr>\n",
       "    <tr>\n",
       "      <th>126184</th>\n",
       "      <td>No</td>\n",
       "      <td>0</td>\n",
       "      <td>1</td>\n",
       "      <td>21.720835</td>\n",
       "      <td>1.085939</td>\n",
       "      <td>2</td>\n",
       "      <td>2</td>\n",
       "      <td>1</td>\n",
       "      <td>2</td>\n",
       "    </tr>\n",
       "  </tbody>\n",
       "</table>\n",
       "<p>84534 rows × 9 columns</p>\n",
       "</div>"
      ],
      "text/plain": [
       "       Promotion  purchase  V1         V2        V3  V4  V5  V6  V7\n",
       "ID                                                                 \n",
       "1             No         0   2  30.443518 -1.165083   1   1   3   2\n",
       "3             No         0   3  32.159350 -0.645617   2   3   2   2\n",
       "4             No         0   2  30.431659  0.133583   1   1   4   2\n",
       "5             No         0   0  26.588914 -0.212728   2   1   4   2\n",
       "8            Yes         0   3  28.044332 -0.385883   1   1   2   2\n",
       "...          ...       ...  ..        ...       ...  ..  ..  ..  ..\n",
       "126180        No         0   1  30.084876  1.345672   1   1   3   1\n",
       "126181       Yes         0   3  33.501485 -0.299306   1   1   4   1\n",
       "126182        No         0   1  31.492019  1.085939   2   3   2   2\n",
       "126183        No         0   1  37.766106  0.999361   2   2   1   2\n",
       "126184        No         0   1  21.720835  1.085939   2   2   1   2\n",
       "\n",
       "[84534 rows x 9 columns]"
      ]
     },
     "execution_count": 22,
     "metadata": {},
     "output_type": "execute_result"
    }
   ],
   "source": [
    "train"
   ]
  },
  {
   "cell_type": "code",
   "execution_count": 140,
   "metadata": {},
   "outputs": [],
   "source": [
    "def custom_asymmetric_objective(y_true, y_pred):\n",
    "    residual = (y_true - y_pred).astype(\"float\")\n",
    "    grad = np.where(residual<0, -2*10.0*residual, -2*residual)\n",
    "    hess = np.where(residual<0, 2*10.0, 2.0)\n",
    "    return grad, hess\n",
    "\n",
    "def custom_asymmetric_eval(y_true, y_pred):\n",
    "    residual = (y_true - y_pred).astype(\"float\")\n",
    "    loss = np.where(residual < 0, (residual**2)*10.0, residual**2) \n",
    "    return \"custom_asymmetric_eval\", np.mean(loss), False\n",
    "\n",
    "def custom_profit_loss(y_true, y_pred, targeted):\n",
    "    residual = (y_true - y_pred).astype(\"float\")\n",
    "    expected_gain = (10-5)*residual - (10)*residual\n",
    "    loss = np.log(1 + np.exp(-2*expected_gain*residual))\n",
    "    grad = (1 + np.exp(-2*expected_gain*residual))**-1\n",
    "    hess = -np.exp(-2*expected_gain*residual)*(1 + np.exp(-2*expected_gain*residual))**-2 \n",
    "    return grad, hess\n",
    "    "
   ]
  },
  {
   "cell_type": "code",
   "execution_count": 141,
   "metadata": {},
   "outputs": [
    {
     "data": {
      "text/plain": [
       "Text(0, 0.5, 'first or second derivates')"
      ]
     },
     "execution_count": 141,
     "metadata": {},
     "output_type": "execute_result"
    },
    {
     "data": {
      "image/png": "[encoded data removed]",
      "text/plain": [
       "<Figure size 576x288 with 1 Axes>"
      ]
     },
     "metadata": {
      "needs_background": "light"
     },
     "output_type": "display_data"
    }
   ],
   "source": [
    "fig, ax = plt.subplots(1,1, figsize=(8,4))\n",
    "y_true = np.repeat(0,1000)\n",
    "y_pred = np.linspace(-1,1,1000)\n",
    "# ax.plot(y_hat, errors)\n",
    "grad, hess = custom_profit_loss(y_true, y_pred)\n",
    "ax.plot(y_pred, grad)\n",
    "ax.plot(y_pred, hess)\n",
    "ax.legend(('gradient', 'hessian'))\n",
    "ax.set_xlabel('Predictions')\n",
    "ax.set_ylabel('first or second derivates')"
   ]
  },
  {
   "cell_type": "code",
   "execution_count": 94,
   "metadata": {},
   "outputs": [
    {
     "data": {
      "text/plain": [
       "1.875"
      ]
     },
     "execution_count": 94,
     "metadata": {},
     "output_type": "execute_result"
    }
   ],
   "source": [
    "3.75/2"
   ]
  },
  {
   "cell_type": "code",
   "execution_count": 31,
   "metadata": {},
   "outputs": [],
   "source": [
    "response = []\n",
    "\n",
    "for index, row in train.iterrows():\n",
    "    if (row['purchase'] == 1) and (row['Promotion']=='Yes'):\n",
    "        response.append(1.0)\n",
    "    else:\n",
    "        response.append(0.0)\n",
    "        \n",
    "train['response'] = response"
   ]
  },
  {
   "cell_type": "code",
   "execution_count": 43,
   "metadata": {},
   "outputs": [],
   "source": [
    "train.loc[train['Promotion'] == False, 'Promotion'] = int(0)\n",
    "train.loc[train['Promotion'] == True, 'Promotion'] = int(1)\n"
   ]
  },
  {
   "cell_type": "code",
   "execution_count": 59,
   "metadata": {},
   "outputs": [],
   "source": [
    "test.loc[test['Promotion'] == \"No\", 'Promotion'] = 0\n",
    "test.loc[test['Promotion'] == \"Yes\", 'Promotion'] = 1"
   ]
  },
  {
   "cell_type": "code",
   "execution_count": 50,
   "metadata": {},
   "outputs": [],
   "source": [
    "train['Promotion'] = train['Promotion'].astype(int)"
   ]
  },
  {
   "cell_type": "code",
   "execution_count": 62,
   "metadata": {},
   "outputs": [],
   "source": [
    "test['Promotion'] = test['Promotion'].astype(int)"
   ]
  },
  {
   "cell_type": "code",
   "execution_count": 77,
   "metadata": {},
   "outputs": [
    {
     "name": "stdout",
     "output_type": "stream",
     "text": [
      "<class 'pandas.core.frame.DataFrame'>\n",
      "Int64Index: 27699 entries, 52143 to 63562\n",
      "Data columns (total 10 columns):\n",
      " #   Column     Non-Null Count  Dtype  \n",
      "---  ------     --------------  -----  \n",
      " 0   Promotion  27699 non-null  int32  \n",
      " 1   purchase   27699 non-null  int64  \n",
      " 2   V1         27699 non-null  int64  \n",
      " 3   V2         27699 non-null  float64\n",
      " 4   V3         27699 non-null  float64\n",
      " 5   V4         27699 non-null  int64  \n",
      " 6   V5         27699 non-null  int64  \n",
      " 7   V6         27699 non-null  int64  \n",
      " 8   V7         27699 non-null  int64  \n",
      " 9   response   27699 non-null  float64\n",
      "dtypes: float64(3), int32(1), int64(6)\n",
      "memory usage: 2.2 MB\n"
     ]
    }
   ],
   "source": [
    "train.info()"
   ]
  },
  {
   "cell_type": "code",
   "execution_count": 78,
   "metadata": {},
   "outputs": [],
   "source": [
    "features = ['V1', 'V2', 'V3', 'V4', 'V5', 'V6', 'V7']\n",
    "\n",
    "train, valid = sk.model_selection.train_test_split(train, test_size=0.2,random_state=42)\n",
    "# generate features and labels\n",
    "y_train = train['response']\n",
    "X_train = train[features]\n",
    "\n",
    "y_valid = valid['response']\n",
    "X_valid = valid[features]\n",
    "\n",
    "eval_set = [(X_train, y_train), (X_valid, y_valid)]"
   ]
  },
  {
   "cell_type": "code",
   "execution_count": 142,
   "metadata": {},
   "outputs": [
    {
     "name": "stdout",
     "output_type": "stream",
     "text": [
      "[1]\tvalid_0's l2: 0.00821337\tvalid_1's l2: 0.00830325\n",
      "[2]\tvalid_0's l2: 0.00821337\tvalid_1's l2: 0.00830325\n",
      "[3]\tvalid_0's l2: 0.00821337\tvalid_1's l2: 0.00830325\n",
      "[4]\tvalid_0's l2: 0.00821337\tvalid_1's l2: 0.00830325\n",
      "[5]\tvalid_0's l2: 0.00821337\tvalid_1's l2: 0.00830325\n",
      "[6]\tvalid_0's l2: 0.00821337\tvalid_1's l2: 0.00830325\n",
      "[7]\tvalid_0's l2: 0.00821337\tvalid_1's l2: 0.00830325\n",
      "[8]\tvalid_0's l2: 0.00821337\tvalid_1's l2: 0.00830325\n",
      "[9]\tvalid_0's l2: 0.00821337\tvalid_1's l2: 0.00830325\n",
      "[10]\tvalid_0's l2: 0.00821337\tvalid_1's l2: 0.00830325\n",
      "[11]\tvalid_0's l2: 0.00821337\tvalid_1's l2: 0.00830325\n",
      "[12]\tvalid_0's l2: 0.00821337\tvalid_1's l2: 0.00830325\n",
      "[13]\tvalid_0's l2: 0.00821337\tvalid_1's l2: 0.00830325\n",
      "[14]\tvalid_0's l2: 0.00821337\tvalid_1's l2: 0.00830325\n",
      "[15]\tvalid_0's l2: 0.00821337\tvalid_1's l2: 0.00830325\n",
      "[16]\tvalid_0's l2: 0.00821337\tvalid_1's l2: 0.00830325\n",
      "[17]\tvalid_0's l2: 0.00821337\tvalid_1's l2: 0.00830325\n",
      "[18]\tvalid_0's l2: 0.00821337\tvalid_1's l2: 0.00830325\n",
      "[19]\tvalid_0's l2: 0.00821337\tvalid_1's l2: 0.00830325\n",
      "[20]\tvalid_0's l2: 0.00821337\tvalid_1's l2: 0.00830325\n",
      "[21]\tvalid_0's l2: 0.00821337\tvalid_1's l2: 0.00830325\n",
      "[22]\tvalid_0's l2: 0.00821337\tvalid_1's l2: 0.00830325\n",
      "[23]\tvalid_0's l2: 0.00821337\tvalid_1's l2: 0.00830325\n",
      "[24]\tvalid_0's l2: 0.00821337\tvalid_1's l2: 0.00830325\n",
      "[25]\tvalid_0's l2: 0.00821337\tvalid_1's l2: 0.00830325\n",
      "[26]\tvalid_0's l2: 0.00821337\tvalid_1's l2: 0.00830325\n",
      "[27]\tvalid_0's l2: 0.00821337\tvalid_1's l2: 0.00830325\n",
      "[28]\tvalid_0's l2: 0.00821337\tvalid_1's l2: 0.00830325\n",
      "[29]\tvalid_0's l2: 0.00821337\tvalid_1's l2: 0.00830325\n",
      "[30]\tvalid_0's l2: 0.00821337\tvalid_1's l2: 0.00830325\n",
      "[31]\tvalid_0's l2: 0.00821337\tvalid_1's l2: 0.00830325\n",
      "[32]\tvalid_0's l2: 0.00821337\tvalid_1's l2: 0.00830325\n",
      "[33]\tvalid_0's l2: 0.00821337\tvalid_1's l2: 0.00830325\n",
      "[34]\tvalid_0's l2: 0.00821337\tvalid_1's l2: 0.00830325\n",
      "[35]\tvalid_0's l2: 0.00821337\tvalid_1's l2: 0.00830325\n",
      "[36]\tvalid_0's l2: 0.00821337\tvalid_1's l2: 0.00830325\n",
      "[37]\tvalid_0's l2: 0.00821337\tvalid_1's l2: 0.00830325\n",
      "[38]\tvalid_0's l2: 0.00821337\tvalid_1's l2: 0.00830325\n",
      "[39]\tvalid_0's l2: 0.00821337\tvalid_1's l2: 0.00830325\n",
      "[40]\tvalid_0's l2: 0.00821337\tvalid_1's l2: 0.00830325\n",
      "[41]\tvalid_0's l2: 0.00821337\tvalid_1's l2: 0.00830325\n",
      "[42]\tvalid_0's l2: 0.00821337\tvalid_1's l2: 0.00830325\n",
      "[43]\tvalid_0's l2: 0.00821337\tvalid_1's l2: 0.00830325\n",
      "[44]\tvalid_0's l2: 0.00821337\tvalid_1's l2: 0.00830325\n",
      "[45]\tvalid_0's l2: 0.00821337\tvalid_1's l2: 0.00830325\n",
      "[46]\tvalid_0's l2: 0.00821337\tvalid_1's l2: 0.00830325\n",
      "[47]\tvalid_0's l2: 0.00821337\tvalid_1's l2: 0.00830325\n",
      "[48]\tvalid_0's l2: 0.00821337\tvalid_1's l2: 0.00830325\n",
      "[49]\tvalid_0's l2: 0.00821337\tvalid_1's l2: 0.00830325\n",
      "[50]\tvalid_0's l2: 0.00821337\tvalid_1's l2: 0.00830325\n",
      "[51]\tvalid_0's l2: 0.00821337\tvalid_1's l2: 0.00830325\n",
      "[52]\tvalid_0's l2: 0.00821337\tvalid_1's l2: 0.00830325\n",
      "[53]\tvalid_0's l2: 0.00821337\tvalid_1's l2: 0.00830325\n",
      "[54]\tvalid_0's l2: 0.00821337\tvalid_1's l2: 0.00830325\n",
      "[55]\tvalid_0's l2: 0.00821337\tvalid_1's l2: 0.00830325\n",
      "[56]\tvalid_0's l2: 0.00821337\tvalid_1's l2: 0.00830325\n",
      "[57]\tvalid_0's l2: 0.00821337\tvalid_1's l2: 0.00830325\n",
      "[58]\tvalid_0's l2: 0.00821337\tvalid_1's l2: 0.00830325\n",
      "[59]\tvalid_0's l2: 0.00821337\tvalid_1's l2: 0.00830325\n",
      "[60]\tvalid_0's l2: 0.00821337\tvalid_1's l2: 0.00830325\n",
      "[61]\tvalid_0's l2: 0.00821337\tvalid_1's l2: 0.00830325\n",
      "[62]\tvalid_0's l2: 0.00821337\tvalid_1's l2: 0.00830325\n",
      "[63]\tvalid_0's l2: 0.00821337\tvalid_1's l2: 0.00830325\n",
      "[64]\tvalid_0's l2: 0.00821337\tvalid_1's l2: 0.00830325\n",
      "[65]\tvalid_0's l2: 0.00821337\tvalid_1's l2: 0.00830325\n",
      "[66]\tvalid_0's l2: 0.00821337\tvalid_1's l2: 0.00830325\n",
      "[67]\tvalid_0's l2: 0.00821337\tvalid_1's l2: 0.00830325\n",
      "[68]\tvalid_0's l2: 0.00821337\tvalid_1's l2: 0.00830325\n",
      "[69]\tvalid_0's l2: 0.00821337\tvalid_1's l2: 0.00830325\n",
      "[70]\tvalid_0's l2: 0.00821337\tvalid_1's l2: 0.00830325\n",
      "[71]\tvalid_0's l2: 0.00821337\tvalid_1's l2: 0.00830325\n",
      "[72]\tvalid_0's l2: 0.00821337\tvalid_1's l2: 0.00830325\n",
      "[73]\tvalid_0's l2: 0.00821337\tvalid_1's l2: 0.00830325\n",
      "[74]\tvalid_0's l2: 0.00821337\tvalid_1's l2: 0.00830325\n",
      "[75]\tvalid_0's l2: 0.00821337\tvalid_1's l2: 0.00830325\n",
      "[76]\tvalid_0's l2: 0.00821337\tvalid_1's l2: 0.00830325\n",
      "[77]\tvalid_0's l2: 0.00821337\tvalid_1's l2: 0.00830325\n",
      "[78]\tvalid_0's l2: 0.00821337\tvalid_1's l2: 0.00830325\n",
      "[79]\tvalid_0's l2: 0.00821337\tvalid_1's l2: 0.00830325\n",
      "[80]\tvalid_0's l2: 0.00821337\tvalid_1's l2: 0.00830325\n",
      "[81]\tvalid_0's l2: 0.00821337\tvalid_1's l2: 0.00830325\n",
      "[82]\tvalid_0's l2: 0.00821337\tvalid_1's l2: 0.00830325\n",
      "[83]\tvalid_0's l2: 0.00821337\tvalid_1's l2: 0.00830325\n",
      "[84]\tvalid_0's l2: 0.00821337\tvalid_1's l2: 0.00830325\n",
      "[85]\tvalid_0's l2: 0.00821337\tvalid_1's l2: 0.00830325\n",
      "[86]\tvalid_0's l2: 0.00821337\tvalid_1's l2: 0.00830325\n",
      "[87]\tvalid_0's l2: 0.00821337\tvalid_1's l2: 0.00830325\n",
      "[88]\tvalid_0's l2: 0.00821337\tvalid_1's l2: 0.00830325\n",
      "[89]\tvalid_0's l2: 0.00821337\tvalid_1's l2: 0.00830325\n",
      "[90]\tvalid_0's l2: 0.00821337\tvalid_1's l2: 0.00830325\n",
      "[91]\tvalid_0's l2: 0.00821337\tvalid_1's l2: 0.00830325\n",
      "[92]\tvalid_0's l2: 0.00821337\tvalid_1's l2: 0.00830325\n",
      "[93]\tvalid_0's l2: 0.00821337\tvalid_1's l2: 0.00830325\n",
      "[94]\tvalid_0's l2: 0.00821337\tvalid_1's l2: 0.00830325\n",
      "[95]\tvalid_0's l2: 0.00821337\tvalid_1's l2: 0.00830325\n",
      "[96]\tvalid_0's l2: 0.00821337\tvalid_1's l2: 0.00830325\n",
      "[97]\tvalid_0's l2: 0.00821337\tvalid_1's l2: 0.00830325\n",
      "[98]\tvalid_0's l2: 0.00821337\tvalid_1's l2: 0.00830325\n",
      "[99]\tvalid_0's l2: 0.00821337\tvalid_1's l2: 0.00830325\n",
      "[100]\tvalid_0's l2: 0.00821337\tvalid_1's l2: 0.00830325\n"
     ]
    },
    {
     "data": {
      "text/plain": [
       "LGBMClassifier(learning_rate=0.05, max_depth=100, metrics=['mse'],\n",
       "               objective=<function custom_profit_loss at 0x000002741CCCEAE8>,\n",
       "               random_state=33)"
      ]
     },
     "execution_count": 142,
     "metadata": {},
     "output_type": "execute_result"
    }
   ],
   "source": [
    "# make new model on new value\n",
    "gbm3 = lgbm.LGBMClassifier(random_state=33,\n",
    "                          learning_rate=.05,\n",
    "                          max_depth=100,\n",
    "                          silent=True)\n",
    "gbm3.set_params(**{'objective': custom_profit_loss}, \n",
    "               metrics = ['mse'])\n",
    "\n",
    "gbm3.fit(\n",
    "    X_train, y_train, eval_set=eval_set, verbose=True\n",
    ")"
   ]
  },
  {
   "cell_type": "code",
   "execution_count": 21,
   "metadata": {},
   "outputs": [
    {
     "name": "stdout",
     "output_type": "stream",
     "text": [
      "Nice job!  See how well your strategy worked on our test data below!\n",
      "\n",
      "Your irr with this strategy is 0.0096.\n",
      "\n",
      "Your nir with this strategy is -1132.20.\n",
      "We came up with a model with an irr of 0.0188 and an nir of 189.45 on the test set.\n",
      "\n",
      " How did you do?\n"
     ]
    },
    {
     "data": {
      "text/plain": [
       "(0.009593158278250108, -1132.1999999999998)"
      ]
     },
     "execution_count": 21,
     "metadata": {},
     "output_type": "execute_result"
    }
   ],
   "source": [
    "test_results(promotion_strategy)"
   ]
  },
  {
   "cell_type": "code",
   "execution_count": 63,
   "metadata": {},
   "outputs": [
    {
     "data": {
      "text/plain": [
       "array([0., 0., 0., ..., 1., 0., 0.])"
      ]
     },
     "execution_count": 63,
     "metadata": {},
     "output_type": "execute_result"
    }
   ],
   "source": [
    "gbm3.predict(test)"
   ]
  },
  {
   "cell_type": "code",
   "execution_count": null,
   "metadata": {},
   "outputs": [],
   "source": []
  }
 ],
 "metadata": {
  "kernelspec": {
   "display_name": "Python 3",
   "language": "python",
   "name": "python3"
  },
  "language_info": {
   "codemirror_mode": {
    "name": "ipython",
    "version": 3
   },
   "file_extension": ".py",
   "mimetype": "text/x-python",
   "name": "python",
   "nbconvert_exporter": "python",
   "pygments_lexer": "ipython3",
   "version": "3.6.8"
  }
 },
 "nbformat": 4,
 "nbformat_minor": 4
}
